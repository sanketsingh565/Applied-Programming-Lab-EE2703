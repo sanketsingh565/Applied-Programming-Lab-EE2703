{
 "cells": [
  {
   "cell_type": "markdown",
   "id": "6e667b6f",
   "metadata": {},
   "source": [
    "# Name: Sanket Singh\n",
    "# Roll No.: EE21B118"
   ]
  },
  {
   "cell_type": "markdown",
   "id": "b5b8a265",
   "metadata": {},
   "source": [
    "## Question-1\n",
    "Write a function to find the factorial of N (N being an input) and find the time taken to compute it.  This will obviously depend on where you run the code and which approach you use to implement the factorial.  Explain your observations briefly."
   ]
  },
  {
   "cell_type": "markdown",
   "id": "4e952712",
   "metadata": {},
   "source": [
    "Using Recursion:"
   ]
  },
  {
   "cell_type": "code",
   "execution_count": 116,
   "id": "8ef92fd8",
   "metadata": {},
   "outputs": [
    {
     "name": "stdout",
     "output_type": "stream",
     "text": [
      "3 µs ± 116 ns per loop (mean ± std. dev. of 7 runs, 100,000 loops each)\n",
      "11.6 µs ± 827 ns per loop (mean ± std. dev. of 7 runs, 100,000 loops each)\n"
     ]
    }
   ],
   "source": [
    "def factorial_recursive(N):\n",
    "    if(N == 1 or N == 0):   return 1\n",
    "    return N*factorial_recursive(N-1)\n",
    "%timeit factorial_recursive(5)\n",
    "%timeit factorial_recursive(15)"
   ]
  },
  {
   "cell_type": "markdown",
   "id": "41a2794e",
   "metadata": {},
   "source": [
    "`factorial()_recursive` uses recursion to compute the factorial. <br/>\n",
    "For smaller inputs like 5, each loop runs in order of nanoseconds <br/>\n",
    "For larger inputs like 15 and 25, each loop runs in order of microseconds\n"
   ]
  },
  {
   "cell_type": "markdown",
   "id": "af59864a",
   "metadata": {},
   "source": [
    "Using Sequential Multiplication:"
   ]
  },
  {
   "cell_type": "code",
   "execution_count": 65,
   "id": "a8236ac0",
   "metadata": {},
   "outputs": [
    {
     "name": "stdout",
     "output_type": "stream",
     "text": [
      "3.24 µs ± 316 ns per loop (mean ± std. dev. of 7 runs, 100,000 loops each)\n",
      "7.27 µs ± 767 ns per loop (mean ± std. dev. of 7 runs, 100,000 loops each)\n"
     ]
    }
   ],
   "source": [
    "def factorial_iterative(N):\n",
    "    prod = 1\n",
    "    for i in range (N):\n",
    "        prod = prod*(i+1)\n",
    "    return prod\n",
    "\n",
    "%timeit factorial_iterative(5)\n",
    "%timeit factorial_iterative(15)"
   ]
  },
  {
   "cell_type": "markdown",
   "id": "9e8f44ff",
   "metadata": {},
   "source": [
    "`factorial_iterative()` uses sequential multiplication iteratively to comupte the factorial. </br>\n",
    "Clearly, it is more than 3 times faster that the recursive approach for larger inputs like 15."
   ]
  },
  {
   "cell_type": "markdown",
   "id": "126a2437",
   "metadata": {},
   "source": [
    "Using `numpy.math.factorial()`:"
   ]
  },
  {
   "cell_type": "code",
   "execution_count": 66,
   "id": "763872f5",
   "metadata": {},
   "outputs": [
    {
     "name": "stdout",
     "output_type": "stream",
     "text": [
      "725 ns ± 145 ns per loop (mean ± std. dev. of 7 runs, 1,000,000 loops each)\n",
      "712 ns ± 18.4 ns per loop (mean ± std. dev. of 7 runs, 1,000,000 loops each)\n"
     ]
    }
   ],
   "source": [
    "import numpy as np\n",
    "%timeit np.math.factorial(5)\n",
    "%timeit np.math.factorial(15)"
   ]
  },
  {
   "cell_type": "markdown",
   "id": "6191261a",
   "metadata": {},
   "source": [
    "`numpy.math.factorial()` is clearly much more efficient, it doesn't scale up with input size. </br>\n",
    "It is almost 10 times faster for larger inputs like 15 compared to recursion and sequential multiplication!"
   ]
  },
  {
   "cell_type": "markdown",
   "id": "b87137ae",
   "metadata": {},
   "source": [
    "## Question-2\n",
    "\n",
    " Write a linear equation solver that will take in matrices $A$ and $b$ as inputs, and return the vector $x$ that solves the equation $Ax=b$.  Your function should catch errors in the inputs and return suitable error messages for different possible problems.\n",
    "  - Time your solver to solve a random $10\\times 10$ system of equations.  Compare the time taken against the `numpy.linalg.solve` function for the same inputs."
   ]
  },
  {
   "cell_type": "code",
   "execution_count": 1,
   "id": "3fcf2736",
   "metadata": {},
   "outputs": [
    {
     "name": "stdout",
     "output_type": "stream",
     "text": [
      "[ 4.40000000e+00 -3.60000000e+00  6.66133815e-16]\n"
     ]
    },
    {
     "ename": "Exception",
     "evalue": "Matrix A is singular",
     "output_type": "error",
     "traceback": [
      "\u001b[0;31m---------------------------------------------------------------------------\u001b[0m",
      "\u001b[0;31mException\u001b[0m                                 Traceback (most recent call last)",
      "Cell \u001b[0;32mIn[1], line 65\u001b[0m\n\u001b[1;32m     63\u001b[0m b \u001b[38;5;241m=\u001b[39m np\u001b[38;5;241m.\u001b[39marray([\u001b[38;5;241m8\u001b[39m,\u001b[38;5;241m-\u001b[39m\u001b[38;5;241m2\u001b[39m,\u001b[38;5;241m24\u001b[39m])\n\u001b[1;32m     64\u001b[0m \u001b[38;5;28mprint\u001b[39m(np\u001b[38;5;241m.\u001b[39mlinalg\u001b[38;5;241m.\u001b[39msolve(A, b))\n\u001b[0;32m---> 65\u001b[0m x \u001b[38;5;241m=\u001b[39m \u001b[43msolver\u001b[49m\u001b[43m(\u001b[49m\u001b[43mA\u001b[49m\u001b[43m,\u001b[49m\u001b[43m \u001b[49m\u001b[43mb\u001b[49m\u001b[43m)\u001b[49m\n\u001b[1;32m     66\u001b[0m \u001b[38;5;28mprint\u001b[39m(x)\n\u001b[1;32m     67\u001b[0m get_ipython()\u001b[38;5;241m.\u001b[39mrun_line_magic(\u001b[38;5;124m'\u001b[39m\u001b[38;5;124mtimeit\u001b[39m\u001b[38;5;124m'\u001b[39m, \u001b[38;5;124m'\u001b[39m\u001b[38;5;124mnp.linalg.solve(A, b)\u001b[39m\u001b[38;5;124m'\u001b[39m)\n",
      "Cell \u001b[0;32mIn[1], line 36\u001b[0m, in \u001b[0;36msolver\u001b[0;34m(A, b)\u001b[0m\n\u001b[1;32m     33\u001b[0m         row_max \u001b[38;5;241m=\u001b[39m j\n\u001b[1;32m     35\u001b[0m \u001b[38;5;28;01mif\u001b[39;00m \u001b[38;5;28mmax\u001b[39m \u001b[38;5;241m==\u001b[39m \u001b[38;5;241m0\u001b[39m: \u001b[38;5;66;03m#Check if all elements of column are zero, if yes raise exception\u001b[39;00m\n\u001b[0;32m---> 36\u001b[0m     \u001b[38;5;28;01mraise\u001b[39;00m \u001b[38;5;167;01mException\u001b[39;00m(\u001b[38;5;124m\"\u001b[39m\u001b[38;5;124mMatrix A is singular\u001b[39m\u001b[38;5;124m\"\u001b[39m)\n\u001b[1;32m     37\u001b[0m \u001b[38;5;28;01mif\u001b[39;00m row_max \u001b[38;5;241m!=\u001b[39m i: \u001b[38;5;66;03m#Interchange row if 0 is present\u001b[39;00m\n\u001b[1;32m     38\u001b[0m     A[[i, row_max]] \u001b[38;5;241m=\u001b[39m A[[row_max, i]]\n",
      "\u001b[0;31mException\u001b[0m: Matrix A is singular"
     ]
    }
   ],
   "source": [
    "import numpy as np\n",
    "import random\n",
    "#Defining a funtion to perform Back Substitution \n",
    "def backSubs(P, q):\n",
    "    unknowns = len(q)\n",
    "    x = np.zeros(unknowns, dtype = complex)             # Solution vector x of size n\n",
    "    x[unknowns-1] = q[unknowns-1]/P[unknowns-1,unknowns-1]    # Find x[unknowns-1]\n",
    "    for i in range(unknowns-2,-1,-1):      # Loop from the end to the beginning\n",
    "        sum = 0 #Inititalise sum variable\n",
    "        for j in range(i+1, unknowns):        # For known x values, sum and move to rhs\n",
    "            sum = sum + P[i][j]*x[j]\n",
    "        x[i] = (q[i] - sum)/P[i][i]\n",
    "    return x\n",
    "\n",
    "\n",
    "def solver(A, b):\n",
    "    #Check if input is valid\n",
    "    unknowns = len(b) #Find number of unknown variables\n",
    "    for i in range(len(A)):\n",
    "        count = 0\n",
    "        for j in range(len(A[i])):\n",
    "            count+=1\n",
    "        if count != unknowns:\n",
    "            raise Exception (\"Invalid Dimensions\") #Raise exception if dimensions are invalid\n",
    "\n",
    "    #Triangularization of matrix\n",
    "    for i in range(unknowns):\n",
    "        max = abs(A[i][i]) \n",
    "        row_max = i #Row containg element with maximum absolute value\n",
    "        for j in range(i + 1, unknowns):\n",
    "            if max < abs(A[j][i]): \n",
    "                max = abs(A[j][i])\n",
    "                row_max = j\n",
    "\n",
    "        if max == 0: #Check if all elements of column are zero, if yes raise exception\n",
    "            raise Exception(\"Matrix A is singular\")\n",
    "        if row_max != i: #Interchange row if 0 is present\n",
    "            A[[i, row_max]] = A[[row_max, i]]\n",
    "            b[[i, row_max]] = b[[row_max, i]]\n",
    "\n",
    "        for j in range(i + 1, unknowns): #Loop through rows to triangularize matrix A\n",
    "            norm = A[j][i] / A[i][i] \n",
    "            for m in range(i, unknowns):\n",
    "                A[j][m] = A[j][m] - norm * A[i][m] #Applying row operations\n",
    "            b[j] = b[j] - norm * b[i] \n",
    "\n",
    "    return backSubs(A, b) #Use backsubstitution to return vector x after matrix A is triangularized\n",
    "\n",
    "# A = np.array([[4., -4.8, -3.2, 3., 6., 2.5, 1., -7., 0.5, -3,],\n",
    "#               [-2., 2., -4.2, 6., 6., 6.5, 1., -2., -0.5, 9.,],\n",
    "#               [-3.5, 2., 4., -8., 1., 2.5, 1.3, -7., 5., -3.5],\n",
    "#               [4., -4.8, -3, 3., 6., 1.5, 1., -4., 4., -0.6],\n",
    "#               [4., 1, -2, 3., 4., 5, 6., -7., 2., -3],\n",
    "#               [-5., -4., 3.2, -3., -3., 1.5, 1., -7., 0.5, -7.],\n",
    "#               [1., -2, -8., -3., -6., -2.5, 2.5, -5., -1., -2.],\n",
    "#               [2., -2, -2, 2., 5., 5., 5., -1., 5.5, -3],\n",
    "#               [0., -8., -3., -2., 1., -2.5, -1., -4., 3., -1],\n",
    "#               [2., -4.5, 2.2, 5., 0., 0., 1.5, -2., -0.5, 3,]])\n",
    "\n",
    "# b = np.array([8., -11., 2.5, -1., 4., 0., 1.5, -2., -1, 6.])\n",
    "\n",
    "A = np.array([[1,-1,1],[2,3,-1],[3,-3,1]])\n",
    "b = np.array([8,-2,24])\n",
    "print(np.linalg.solve(A, b))\n",
    "x = solver(A, b)\n",
    "print(x)\n",
    "%timeit np.linalg.solve(A, b)\n",
    "%timeit solver(A, b)\n"
   ]
  },
  {
   "cell_type": "markdown",
   "id": "e9522571",
   "metadata": {},
   "source": [
    "The above code first checks for valid inputs. It raises an exception for incorrect dimensions and also when matrix $A$ is singular.<br/>\n",
    "\n",
    "**Algorithm:**<br/>\n",
    "It converts $A$ into a triangular matrix using elementary row operations. If the pivot is zero, it interchanges rows with the next non-zero element in the same column.\n",
    "\n",
    "After triangularizing matrix $A$, we then use backsubstitution to find solution vector $x$.\n"
   ]
  },
  {
   "cell_type": "markdown",
   "id": "9737ccf0",
   "metadata": {},
   "source": [
    "`solver(A, b)` uses Gaussian elimination with pivotting to solve for vector x. It uses an **O(n<sup>2</sup>)** algorithm. <br/>\n",
    "For a typical 10x10 matrix, `np.linalg.solve(A, b)` is much more efficient and is more than 50 times faster "
   ]
  },
  {
   "cell_type": "markdown",
   "id": "eaadea14",
   "metadata": {},
   "source": [
    "## Question-3"
   ]
  },
  {
   "cell_type": "markdown",
   "id": "085a3017",
   "metadata": {},
   "source": [
    "Given a circuit netlist in the form described above, read it in from a file, construct the appropriate matrices, and use the solver you have written above to obtain the voltages and currents in the circuit.  If you find AC circuits hard to handle, first do this for pure DC circuits, but you should be able to handle both voltage and current sources."
   ]
  },
  {
   "cell_type": "markdown",
   "id": "6388a2c7",
   "metadata": {},
   "source": [
    "**Assumed Syntax:**\n",
    "\n",
    "`v<string> n1 n2 [type=vdc vdc=float] [type=vac vac=float] [type=....]` </br>\n",
    "vdc = n2 - n1\n",
    "\n",
    "`i<string> n1 n2 [type=idc idc=float] [type=iac iac=float] [type=....]`</br>\n",
    "Head of current iac at n2, tail at n1\n",
    "\n",
    "For AC sources, phase is input in radians."
   ]
  },
  {
   "cell_type": "markdown",
   "id": "a62e1da7",
   "metadata": {},
   "source": [
    "Final output: All nodal voltages and auxillary currents (currents through independent voltage sources)\n",
    "\n",
    "If different frequencies are found, an error is returned."
   ]
  },
  {
   "cell_type": "code",
   "execution_count": 17,
   "id": "b6e13502",
   "metadata": {},
   "outputs": [],
   "source": [
    "import numpy as np\n",
    "from sys import exit\n",
    "import math\n",
    "# Read netlist\n",
    "def readfile(file):\n",
    "    try: \n",
    "        with open(file, \"r\") as filehandle:\n",
    "            data = filehandle.read().split(\"\\n\")\n",
    "        # Raise exception if file not found\n",
    "    except Exception as ex:\n",
    "        print(ex)\n",
    "        return\n",
    "\n",
    "    freq = None\n",
    "    for line in data:\n",
    "        if line == '':\n",
    "            continue\n",
    "        i = line.split()\n",
    "        # Remove garbage lines\n",
    "        if i[0] == '.circuit':   start = data.index(line)\n",
    "        if i[0] == '.end':  end = data.index(line)\n",
    "        if i[0] == '.ac':\n",
    "            if freq is not None:\n",
    "                if freq!= i[2]:\n",
    "                    print(\"Different frequencies found!\")\n",
    "                    exit()\n",
    "            else:\n",
    "                freq = float(i[2])\n",
    "    if freq is None:\n",
    "        freq = 0.\n",
    "\n",
    "    for line in data:\n",
    "        if line == '':\n",
    "            continue\n",
    "        i = line.split()\n",
    "        # Raise exception if both AC and DC source is provided\n",
    "        if (i[0][0] == 'V' or i[0][0] == 'I') and freq != 0 and i[3] == 'dc':\n",
    "            print(\"Different frequencies found!\")\n",
    "            exit()\n",
    "    if start > end:\n",
    "        raise Exception(\"Invalid circuit definition\")\n",
    "    \n",
    "    return data[start+1: end], freq\n",
    "\n",
    "# Generate MNA matrix\n",
    "def matrixGenerator(file):\n",
    "    lines, f = readfile(file)\n",
    "    nodes_str = [] # List storing nodes\n",
    "    nodes_dict = {} # List mapping nodes to variable 'count' \n",
    "    count = 0\n",
    "    for line in lines:\n",
    "        if line == '':\n",
    "            continue\n",
    "        i = line.split()\n",
    "        for j in range(1, 3):\n",
    "            if i[j] not in nodes_str:\n",
    "                nodes_str.append(i[j])\n",
    "                nodes_dict[i[j]] = count\n",
    "                count+=1\n",
    "\n",
    "    # curr_dict stores a mapping of Voltage Source and corresponding nodes and current variable                \n",
    "    curr_dict = {}\n",
    "    curr_count = count\n",
    "    for line in lines:\n",
    "        if line == '':\n",
    "            continue\n",
    "        i = line.split()\n",
    "        if i[0][0] == 'V':\n",
    "            curr_dict[i[0]] = (i[1], i[2], curr_count)\n",
    "            curr_count+=1\n",
    "    # Assign matrix of size curr_count\n",
    "    matB = [0] * curr_count\n",
    "    matA = []\n",
    "    for i in range(curr_count):\n",
    "        matA.append([])\n",
    "        for j in range(curr_count):\n",
    "            matA[i].append(0)\n",
    "\n",
    "    for j in nodes_dict.keys():\n",
    "        # Writing KCL at every node (j)\n",
    "        for line in lines:\n",
    "            if line == '':\n",
    "                continue\n",
    "            i = line.split()\n",
    "            # Iterate across lines looking for node j\n",
    "            for k in range(1, 3):\n",
    "                if i[k] == j:\n",
    "                    if i[0][0] != 'V' and i[0][0] != 'I':\n",
    "                        # Compute impedance for R, L, C\n",
    "                        if i[0][0] == 'R':\n",
    "                            imp = float(i[3])\n",
    "                        elif i[0][0] == 'C':\n",
    "                            imp = ((0.0-1.0j)*(1/(float(i[3])*f*2*np.pi)))\n",
    "                        elif i[0][0] == 'L':\n",
    "                            imp = (float(i[3])*f*2*np.pi*(0.0+1.0j))\n",
    "                        \n",
    "                        #Increment at corresponding element in matrix\n",
    "                        if(k == 1):             \n",
    "                            matA[nodes_dict[j]][nodes_dict[i[1]]] += 1/imp\n",
    "                            matA[nodes_dict[j]][nodes_dict[i[2]]] -= 1/imp\n",
    "                            \n",
    "                        elif(k == 2):\n",
    "                            matA[nodes_dict[j]][nodes_dict[i[2]]] += 1/imp\n",
    "                            matA[nodes_dict[j]][nodes_dict[i[1]]] -= 1/imp\n",
    "                        \n",
    "                    elif i[0][0] == 'I':\n",
    "                        if(k == 1):\n",
    "                            matB[nodes_dict[j]] = -float(i[4])\n",
    "                        elif(k == 2):\n",
    "                            matB[nodes_dict[j]] = float(i[4])\n",
    "                    \n",
    "                    # Finding map of Voltage source with corresponding current source\n",
    "                    elif i[0][0] == 'V':\n",
    "                        if(k == 1):\n",
    "                            matA[nodes_dict[j]][curr_dict[i[0]][2]] = 1\n",
    "                        elif(k == 2):\n",
    "                            matA[nodes_dict[j]][curr_dict[i[0]][2]] = -1\n",
    "            \n",
    "            # Adding Voltage source equation to matrix\n",
    "            if i[0][0] == 'V':\n",
    "                matA[curr_dict[i[0]][2]][nodes_dict[i[1]]] = 1\n",
    "                matA[curr_dict[i[0]][2]][nodes_dict[i[2]]] = -1\n",
    "                if f == 0:\n",
    "                    matB[curr_dict[i[0]][2]] = float(i[4])\n",
    "                else:\n",
    "                    matB[curr_dict[i[0]][2]] = float(i[4]) * (math.cos(float(i[5])) + 1j * math.sin(float(i[5])))\n",
    "    return matA, matB, nodes_dict, curr_dict"
   ]
  },
  {
   "cell_type": "code",
   "execution_count": 19,
   "id": "b8bd1e69",
   "metadata": {},
   "outputs": [],
   "source": [
    "# Function to log output onto console\n",
    "def Output_logger(file):\n",
    "    matA, matB, nodes_dict, curr_dict = matrixGenerator(file)\n",
    "    ref = nodes_dict['GND'] # Finding reference potential (GND)\n",
    "    matA1 = list(matA)\n",
    "    matB1 = list(matB)\n",
    "    # Deleting reference nodal voltage in matrix\n",
    "    for i in range(len(matA1)):\n",
    "        del matA1[i][ref]    \n",
    "    del matA1[ref]\n",
    "    del matB1[ref]\n",
    "    \n",
    "    # Finding solution vector using solver()\n",
    "    sol = solver(np.array(matA1, dtype = complex), np.array(matB1, dtype = complex))\n",
    "    del nodes_dict['GND']\n",
    "\n",
    "    # Printing output Node voltages and auxillary currents\n",
    "    print(\"Ref. Potential: GND\") \n",
    "    for i in nodes_dict.keys():\n",
    "        print(f\"Voltage at {i} = {sol[nodes_dict[i]-1]:.10f}\")\n",
    "    for i in curr_dict.keys():\n",
    "        print(\"The current through\",i,\"from node\",curr_dict[i][0],\"to\",curr_dict[i][1],f\"= {sol[curr_dict[i][2]-1]:.10f}\")\n",
    "\n",
    "    del matA, matA1, nodes_dict, matB, matB1, curr_dict, sol"
   ]
  },
  {
   "cell_type": "markdown",
   "id": "e7de5d11",
   "metadata": {},
   "source": [
    "**Algorithm:**</br>\n",
    "We read through the file and store a list of every node.</br>\n",
    "*nodes_dict* is a dictionary mapping every nodal voltage to a variable count. We assign a current variable for every voltage source. \n",
    "\n",
    "We implement Modified Nodal Analysis (MNA) to find all nodal voltages and auxillary currents. </br>\n",
    "\n",
    "We iterate in a loop across lines to find matching node. If a matching node is found, We read the first character of the line to identify the element (R, L, C, V, I). For passive component (R, L, C) we compute impedances. </br>\n",
    "\n",
    "Apply operations accordingly to matrix A and matrix B to write KCL at each node. We also add voltage source equations to the matrix, if the element is an independent voltage source.\n",
    "\n",
    "We then call function `solver()` to find solution vector and log output onto the console."
   ]
  },
  {
   "cell_type": "code",
   "execution_count": 21,
   "id": "8ec5cba4",
   "metadata": {},
   "outputs": [
    {
     "name": "stdout",
     "output_type": "stream",
     "text": [
      "Ref. Potential: GND\n",
      "Voltage at 1 = 0.0000000000+0.0000000000j\n",
      "Voltage at 2 = 0.0000000000+0.0000000000j\n",
      "Voltage at 3 = 0.0000000000+0.0000000000j\n",
      "Voltage at 4 = -5.0000000000-0.0000000000j\n",
      "The current through V1 from node GND to 4 = -0.0005000000-0.0000000000j\n"
     ]
    }
   ],
   "source": [
    "filename = 'ckt1.netlist'\n",
    "Output_logger(filename)"
   ]
  },
  {
   "cell_type": "code",
   "execution_count": 23,
   "id": "23fadab7",
   "metadata": {},
   "outputs": [
    {
     "name": "stdout",
     "output_type": "stream",
     "text": [
      "Different frequencies found!\n"
     ]
    },
    {
     "ename": "SystemExit",
     "evalue": "",
     "output_type": "error",
     "traceback": [
      "An exception has occurred, use %tb to see the full traceback.\n",
      "\u001b[0;31mSystemExit\u001b[0m\n"
     ]
    }
   ],
   "source": [
    "filename = 'ckt2.netlist'\n",
    "Output_logger(filename)"
   ]
  },
  {
   "cell_type": "code",
   "execution_count": 24,
   "id": "453433d1",
   "metadata": {},
   "outputs": [
    {
     "name": "stdout",
     "output_type": "stream",
     "text": [
      "Ref. Potential: GND\n",
      "Voltage at 1 = -10.0000000000-0.0000000000j\n",
      "Voltage at 2 = -5.0292397661+0.0000000000j\n",
      "Voltage at 3 = -2.5730994152+0.0000000000j\n",
      "Voltage at 4 = -1.4035087719+0.0000000000j\n",
      "Voltage at 5 = -0.9356725146+0.0000000000j\n",
      "The current through V1 from node GND to 1 = -0.0049707602-0.0000000000j\n"
     ]
    }
   ],
   "source": [
    "filename = 'ckt3.netlist'\n",
    "Output_logger(filename)"
   ]
  },
  {
   "cell_type": "code",
   "execution_count": 25,
   "id": "5a4f18a4",
   "metadata": {},
   "outputs": [
    {
     "name": "stdout",
     "output_type": "stream",
     "text": [
      "Ref. Potential: GND\n",
      "Voltage at 1 = -10.0000000000-0.0000000000j\n",
      "Voltage at 2 = -5.5555555556+0.0000000000j\n",
      "Voltage at 3 = -3.7037037037+0.0000000000j\n",
      "The current through V1 from node GND to 1 = -2.2222222222-0.0000000000j\n"
     ]
    }
   ],
   "source": [
    "filename = 'ckt4.netlist'\n",
    "Output_logger(filename)"
   ]
  },
  {
   "cell_type": "code",
   "execution_count": 26,
   "id": "0a261e73",
   "metadata": {},
   "outputs": [
    {
     "name": "stdout",
     "output_type": "stream",
     "text": [
      "Ref. Potential: GND\n",
      "Voltage at 1 = -10.0000000000-0.0000000000j\n",
      "The current through V1 from node GND to 1 = -1.0000000000-0.0000000000j\n"
     ]
    }
   ],
   "source": [
    "filename = 'ckt5.netlist'\n",
    "Output_logger(filename)"
   ]
  },
  {
   "cell_type": "code",
   "execution_count": 27,
   "id": "e4a22b94",
   "metadata": {},
   "outputs": [
    {
     "name": "stdout",
     "output_type": "stream",
     "text": [
      "Ref. Potential: GND\n",
      "Voltage at n3 = -5.0000000000-0.0000000000j\n",
      "Voltage at n1 = -0.0000000002-0.0000314159j\n",
      "Voltage at n2 = -0.0000000002-0.0000306202j\n",
      "The current through V1 from node GND to n3 = -0.0050000000+0.0000000306j\n"
     ]
    }
   ],
   "source": [
    "filename = 'ckt6.netlist'\n",
    "Output_logger(filename)"
   ]
  },
  {
   "cell_type": "code",
   "execution_count": 28,
   "id": "ab46b8cd",
   "metadata": {},
   "outputs": [
    {
     "name": "stdout",
     "output_type": "stream",
     "text": [
      "Ref. Potential: GND\n",
      "Voltage at n1 = 0.0000000001-0.0008164558j\n"
     ]
    }
   ],
   "source": [
    "filename = 'ckt7.netlist'\n",
    "Output_logger(filename)"
   ]
  }
 ],
 "metadata": {
  "kernelspec": {
   "display_name": "Python 3 (ipykernel)",
   "language": "python",
   "name": "python3"
  },
  "language_info": {
   "codemirror_mode": {
    "name": "ipython",
    "version": 3
   },
   "file_extension": ".py",
   "mimetype": "text/x-python",
   "name": "python",
   "nbconvert_exporter": "python",
   "pygments_lexer": "ipython3",
   "version": "3.8.10"
  },
  "vscode": {
   "interpreter": {
    "hash": "916dbcbb3f70747c44a77c7bcd40155683ae19c65e1c03b4aa3499c5328201f1"
   }
  }
 },
 "nbformat": 4,
 "nbformat_minor": 5
}
